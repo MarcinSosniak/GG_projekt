{
 "cells": [
  {
   "cell_type": "code",
   "execution_count": null,
   "metadata": {
    "collapsed": true
   },
   "outputs": [],
   "source": [
    "import networkx as nx\n",
    "import matplotlib.pyplot as plt\n",
    "import numpy as np\n",
    "from functools import reduce"
   ]
  },
  {
   "cell_type": "code",
   "execution_count": null,
   "metadata": {
    "collapsed": true
   },
   "outputs": [],
   "source": [
    "# dodac produkcje zwracaja nowe pod grafy <check> \n",
    "# dodac do node'ow typu I id parenta, pierwszy node Typu I bedzie zawierac parenta -1 <check>\n",
    "# layer ma byc lista <check>\n",
    "# wizualizacja warstwy (brutem) <check>\n",
    "# dodac check czy mozna wywolac <check>\n",
    "#czyscic kernel i out przed pushem"
   ]
  },
  {
   "cell_type": "code",
   "execution_count": null,
   "metadata": {
    "collapsed": true
   },
   "outputs": [],
   "source": [
    "class Id_creator:\n",
    "    def __init__(self):\n",
    "        self.last_id = -1\n",
    "    def get_id(self):\n",
    "        self.last_id +=1\n",
    "        return self.last_id\n",
    "    def __call__(self):\n",
    "        return self.get_id()\n",
    "    \n",
    "    \n",
    "class CannotExecuteProduction(Exception):\n",
    "        pass\n",
    "    \n",
    "    \n",
    "class Graph_layers:\n",
    "    def __init__(self):\n",
    "        self._node_id_gen =  Id_creator()\n",
    "        G = nx.Graph()\n",
    "        G.add_nodes_from([(self._node_id_gen(), {'pos': (0,0),'type': 'e'})])\n",
    "        self._layers=[[G]]\n",
    "        \n",
    "    def get_layer(self, i):\n",
    "        return self._layers[i]\n",
    "    \n",
    "    def add_to_layer(self,i,G):\n",
    "        return self._layers[i].append(G)\n",
    "    \n",
    "    def add_to_last_layer(self,G):\n",
    "        return self._layers[-1].append(G)\n",
    "        \n",
    "    def add_new_layer(self, G_new):\n",
    "        self._layers.append([G_new])            \n",
    "        \n",
    "    def get_last_layer_index(self):\n",
    "        return len(self._layers) - 1\n",
    "    \n",
    "    def get_last_layer(self,i):\n",
    "        return self._layers[i]\n",
    "    \n",
    "    def display_i_layer(self, i):\n",
    "        G_layer = self._layers[i]\n",
    "        G = self._layers[i][0] if  len(self._layers[i])==1 else reduce(nx.algorithms.operators.binary.compose,G_layer)\n",
    "        \n",
    "        pos = nx.get_node_attributes(G, 'pos')\n",
    "        nx.draw_networkx(G, pos)\n",
    "        \n",
    "    def get_node_id_gen(self):\n",
    "        return self._node_id_gen"
   ]
  },
  {
   "cell_type": "code",
   "execution_count": null,
   "metadata": {
    "collapsed": true
   },
   "outputs": [],
   "source": [
    "def p1(G, base_node_id, n_id_gen, side_len=2, max_random_offset = 0):\n",
    "    assert(G.nodes[base_node_id]['type'].lower() == 'e' )\n",
    "    assert(len(G.nodes)==1)\n",
    "    all_new_nodes = []\n",
    "    all_new_edges = []\n",
    "    base_pos = G.nodes[base_node_id]['pos']\n",
    "    x_offset = ((np.random.random()-0.5) * max_random_offset * 2)\n",
    "    y_offset = ((np.random.random()-0.5) * max_random_offset * 2)\n",
    "    i_node_x, i_node_y = base_pos[0], base_pos[1]\n",
    "    i_node = (n_id_gen(), {'pos': (i_node_x+x_offset, i_node_y-y_offset), 'type': 'I','parent': -1})\n",
    "    all_new_nodes.append(i_node)\n",
    "    \n",
    "    half_side_len = side_len/2\n",
    "    e_nodes = [\n",
    "        (n_id_gen(), {'pos': (i_node_x - half_side_len, i_node_y + half_side_len),'type': 'e'}),\n",
    "        (n_id_gen(), {'pos': (i_node_x + half_side_len, i_node_y + half_side_len),'type': 'e'}),\n",
    "        (n_id_gen(), {'pos': (i_node_x + half_side_len, i_node_y - half_side_len),'type': 'e'}),\n",
    "        (n_id_gen(), {'pos': (i_node_x - half_side_len, i_node_y - half_side_len),'type': 'e'})\n",
    "    ]\n",
    "    for i in range(len(e_nodes)):\n",
    "        all_new_edges.extend([(e_nodes[i][0],e_nodes[i+1 if i + 1 < len(e_nodes) else 0][0])])\n",
    "        all_new_edges.extend([(i_node[0],e_nodes[i][0])])\n",
    "    \n",
    "    all_new_nodes.extend(e_nodes)\n",
    "    nG = nx.Graph()\n",
    "    nG.add_nodes_from(all_new_nodes)\n",
    "    nG.add_edges_from(all_new_edges)\n",
    "    return nG, i_node\n"
   ]
  },
  {
   "cell_type": "code",
   "execution_count": null,
   "metadata": {
    "collapsed": true
   },
   "outputs": [],
   "source": [
    "def conc_duplicates(G):\n",
    "    org_nodes = list(G.nodes(data=True))\n",
    "\n",
    "    org_nodes_dict = {}\n",
    "    for node_id,data in org_nodes:\n",
    "        try:\n",
    "            org_nodes_dict[data['pos']].append(node_id)\n",
    "        except KeyError:\n",
    "            org_nodes_dict[data['pos']]=[node_id]\n",
    "\n",
    "    nodes_to_replace = {} #keys nodes to be deleted, values nodes to replace them\n",
    "    for key,ids in org_nodes_dict.items():\n",
    "        if len(ids) > 1:\n",
    "            for id_ in ids[1:]:\n",
    "                nodes_to_replace[id_] = ids[0]\n",
    "                \n",
    "    for old_node, new_node in nodes_to_replace.items():\n",
    "        neighbors = list(G.neighbors(old_node))\n",
    "        for n in neighbors:\n",
    "            G.remove_edge(old_node,n)\n",
    "            G.add_edge(new_node,n)\n",
    "        G.remove_node(old_node)\n",
    "    return G"
   ]
  },
  {
   "cell_type": "code",
   "execution_count": null,
   "metadata": {
    "collapsed": true
   },
   "outputs": [],
   "source": [
    "def avg_pos(pos1, pos2):\n",
    "    return ((pos1[0] + pos2[0])/2, (pos1[1] + pos2[1])/2)\n",
    "\n",
    "def rm_edge_if_exists(G,n1id,n2id):\n",
    "    try:\n",
    "        G.remove_edge(n1id,n2id)\n",
    "    except nx.NetworkXError:\n",
    "        pass\n",
    "    \n",
    "\n",
    "\n",
    "#     e0 - - - e1\n",
    "#      | \\    / |\n",
    "#      |  I0    |\n",
    "#      | /   \\  |\n",
    "#     e2 - - - e3\n",
    "#\n",
    "#          |\n",
    "#         \\/\n",
    "#\n",
    "#     e0 - - - n0 - - - e1\n",
    "#     | \\    / | \\    / |\n",
    "#     |  I1    |  I2    |\n",
    "#     | /   \\  | /   \\  |\n",
    "#    n1 - - - n2 - - - n3\n",
    "#     | \\    / | \\    / |\n",
    "#     |  I3    |  I4    |\n",
    "#     | /   \\  | /   \\  |\n",
    "#    e2 - - - n4 - - - e3\n",
    "\n",
    "def p2(G, base_node_id, n_id_gen):\n",
    "    assert(G.nodes[base_node_id]['type'].lower() == 'i')\n",
    "    nG = nx.Graph()\n",
    "    es = list(G.neighbors(base_node_id))\n",
    "    if len(es) != 4:\n",
    "        raise CannotExecuteProduction\n",
    "    e0, e1, e2, e3 = None, None, None, None\n",
    "    baseX, baseY = G.nodes[base_node_id]['pos']\n",
    "    for ex in es:\n",
    "        x,y = G.nodes[ex]['pos']\n",
    "        if x<baseX:\n",
    "            if y<baseY:\n",
    "                e2= (ex,G.nodes[ex])\n",
    "            if y>baseY:\n",
    "                e0= (ex,G.nodes[ex])\n",
    "        else:\n",
    "            if y<baseY:\n",
    "                e3= (ex,G.nodes[ex])\n",
    "            if y>baseY:\n",
    "                e1= (ex,G.nodes[ex])\n",
    "    if not(G.has_edge(e0[0],e1[0]) and\\\n",
    "            G.has_edge(e1[0],e3[0]) and\\\n",
    "            G.has_edge(e3[0],e2[0]) and\\\n",
    "            G.has_edge(e0[0],e2[0]) and\\\n",
    "            G.has_edge(e0[0],base_node_id) and\\\n",
    "            G.has_edge(e1[0],base_node_id) and\\\n",
    "            G.has_edge(e2[0],base_node_id) and\\\n",
    "            G.has_edge(e3[0],base_node_id)\\\n",
    "            ):\n",
    "        raise CannotExecuteProduction\n",
    "    #prepare all new verticies accord to map above\n",
    "    e0 = (n_id_gen(),{'pos': e0[1]['pos'],'type' : e0[1]['type']})\n",
    "    e1 = (n_id_gen(),{'pos': e1[1]['pos'],'type' : e1[1]['type']})\n",
    "    e2 = (n_id_gen(),{'pos': e2[1]['pos'],'type' : e2[1]['type']})\n",
    "    e3 = (n_id_gen(),{'pos': e3[1]['pos'],'type' : e3[1]['type']})\n",
    "\n",
    "    n0 = (n_id_gen(),{'pos' : avg_pos(e0[1]['pos'],e1[1]['pos']),'type':'e'})\n",
    "    n1 = (n_id_gen(),{'pos' : avg_pos(e0[1]['pos'],e2[1]['pos']),'type':'e'})\n",
    "    n2 = (n_id_gen(),{'pos' : avg_pos(e1[1]['pos'],e2[1]['pos']),'type':'e'})\n",
    "    n3 = (n_id_gen(),{'pos' : avg_pos(e1[1]['pos'],e3[1]['pos']),'type':'e'})\n",
    "    n4 = (n_id_gen(),{'pos' : avg_pos(e2[1]['pos'],e3[1]['pos']),'type':'e'})\n",
    "    \n",
    "    I1 = (n_id_gen(),{'pos' : avg_pos(e0[1]['pos'],n2[1]['pos']),'type':'I','parent':base_node_id})\n",
    "    I2 = (n_id_gen(),{'pos' : avg_pos(e1[1]['pos'],n2[1]['pos']),'type':'I','parent':base_node_id})\n",
    "    I3 = (n_id_gen(),{'pos' : avg_pos(e2[1]['pos'],n2[1]['pos']),'type':'I','parent':base_node_id})\n",
    "    I4 = (n_id_gen(),{'pos' : avg_pos(e3[1]['pos'],n2[1]['pos']),'type':'I','parent':base_node_id})\n",
    "    # add all new edges\n",
    "    new_edges = [\n",
    "        (e0[0],n0[0]),(n0[0],e1[0]),\n",
    "        (e0[0],I1[0]),(n0[0],I1[0]), (n0[0],I2[0]),(e1[0],I2[0]),\n",
    "        (e0[0],n1[0]),(n0[0],n2[0]),(e1[0],n3[0]),\n",
    "        (n1[0],I1[0]),(n2[0],I1[0]), (n2[0],I2[0]),(n3[0],I2[0]),\n",
    "        (n1[0],n2[0]),(n2[0],n3[0]),\n",
    "        (n1[0],I3[0]),(n2[0],I3[0]), (n2[0],I4[0]),(n3[0],I4[0]),\n",
    "        (n1[0],e2[0]),(n2[0],n4[0]),(n3[0],e3[0]),\n",
    "        (e2[0],I3[0]),(n4[0],I3[0]), (n4[0],I4[0]),(e3[0],I4[0]),\n",
    "        (e2[0],n4[0]),(n4[0],e3[0]),\n",
    "    ]\n",
    "    nG.add_nodes_from([e0,e1,e2,e3,n0,n1,n2,n3,n4,I1,I2,I3,I4])\n",
    "    nG.add_edges_from(new_edges)\n",
    "    return nG\n",
    "#     conc_duplicates(G)\n"
   ]
  },
  {
   "cell_type": "code",
   "execution_count": null,
   "metadata": {
    "collapsed": true
   },
   "outputs": [],
   "source": [
    "def p7(G, base_node_id, n_id_gen):\n",
    "    return G"
   ]
  },
  {
   "cell_type": "code",
   "execution_count": 96,
   "metadata": {},
   "outputs": [
    {
     "data": {
      "text/plain": "<Figure size 432x288 with 1 Axes>",
      "image/png": "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\n"
     },
     "metadata": {},
     "output_type": "display_data"
    }
   ],
   "source": [
    "graph_layers = Graph_layers()\n",
    "graph_layers.display_i_layer(0)"
   ]
  },
  {
   "cell_type": "code",
   "execution_count": null,
   "metadata": {
    "collapsed": true
   },
   "outputs": [],
   "source": [
    "base_node = list(graph_layers.get_layer(0)[0].nodes(data=True))[0]\n",
    "#indexing from 0 \n",
    "first_layer_G = graph_layers.get_layer(0)[0].copy()\n",
    "\n",
    "#apply p1 production\n",
    "G, i_node = p1(first_layer_G, base_node[0], graph_layers.get_node_id_gen()) \n",
    "graph_layers.add_new_layer(G)\n",
    "\n",
    "graph_layers.display_i_layer(1)"
   ]
  },
  {
   "cell_type": "code",
   "execution_count": null,
   "metadata": {
    "collapsed": true
   },
   "outputs": [],
   "source": [
    "#apply p2 production\n",
    "G = graph_layers.get_layer(1)[0]\n",
    "nG = p2(G, 1, graph_layers.get_node_id_gen())\n",
    "graph_layers.add_new_layer(nG)\n",
    "graph_layers._layers[2][0].nodes(data=True)\n",
    "graph_layers.display_i_layer(2)"
   ]
  },
  {
   "cell_type": "code",
   "execution_count": null,
   "metadata": {
    "collapsed": true
   },
   "outputs": [],
   "source": [
    "#apply p2 production 4 times\n",
    "G = graph_layers.get_layer(2)[0]\n",
    "graph_layers.add_new_layer( p2(G, 15, graph_layers.get_node_id_gen()))\n",
    "graph_layers.add_to_last_layer(p2(G, 18, graph_layers.get_node_id_gen()))\n",
    "graph_layers.display_i_layer(3)"
   ]
  },
  {
   "cell_type": "code",
   "execution_count": null,
   "metadata": {
    "collapsed": true
   },
   "outputs": [],
   "source": [
    "#apply p2 production\n",
    "G = graph_layers.get_layer(2)[0]\n",
    "graph_layers.add_to_last_layer(p2(G, 17, graph_layers.get_node_id_gen()))\n",
    "graph_layers.display_i_layer(3)"
   ]
  },
  {
   "cell_type": "code",
   "execution_count": null,
   "metadata": {
    "collapsed": true
   },
   "outputs": [],
   "source": [
    "#apply p2 production\n",
    "G = graph_layers.get_layer(2)[0]\n",
    "graph_layers.add_to_last_layer(p2(G, 16, graph_layers.get_node_id_gen()))\n",
    "graph_layers.display_i_layer(3)"
   ]
  },
  {
   "cell_type": "code",
   "execution_count": null,
   "metadata": {
    "collapsed": true
   },
   "outputs": [],
   "source": [
    "#    \n",
    "#           \n",
    "#        \n",
    "#      I1  - e1    e1 - I3\n",
    "#        \\  /        \\ /\n",
    "#         e2          e2\n",
    "#        / \\         / \\\n",
    "#     I2  - e3     e3 - I4\n",
    "#\n",
    "#              |\n",
    "#             \\/\n",
    "#\n",
    "#      I1  - e1 - I3\n",
    "#        \\   |   /\n",
    "#            e2\n",
    "#        /   |   \\ \n",
    "#     I2  - e3 - I4"
   ]
  },
  {
   "cell_type": "code",
   "execution_count": null,
   "metadata": {
    "collapsed": true
   },
   "outputs": [],
   "source": []
   "execution_count": 137,
   "metadata": {
    "pycharm": {
     "name": "#%%\n"
    }
   },
   "outputs": [
    {
     "name": "stderr",
     "output_type": "stream",
     "text": [
      "test_p7 (__main__.TestNotebook) ... FAIL\n",
      "\n",
      "======================================================================\n",
      "FAIL: test_p7 (__main__.TestNotebook)\n",
      "----------------------------------------------------------------------\n",
      "Traceback (most recent call last):\n",
      "  File \"<ipython-input-137-0463f7f40333>\", line 99, in test_p7\n",
      "    assert nx.is_isomorphic(self.create_valid_output_layer(), output[0])\n",
      "AssertionError\n",
      "\n",
      "----------------------------------------------------------------------\n",
      "Ran 1 test in 0.022s\n",
      "\n",
      "FAILED (failures=1)\n"
     ]
    },
    {
     "data": {
      "text/plain": "<unittest.main.TestProgram at 0x234b3d7e048>"
     },
     "execution_count": 137,
     "metadata": {},
     "output_type": "execute_result"
    },
    {
     "data": {
      "text/plain": "<Figure size 432x288 with 1 Axes>",
      "image/png": "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\n"
     },
     "metadata": {},
     "output_type": "display_data"
    }
   ],
   "source": [
    "import unittest\n",
    "\n",
    "class TestNotebook(unittest.TestCase):\n",
    "\n",
    "    def create_valid_output_layer(self):\n",
    "        graph_layers = Graph_layers()\n",
    "        id_gen = graph_layers.get_node_id_gen()\n",
    "        l2 = nx.Graph()\n",
    "        l2_edges = []\n",
    "        l2_nodes = []\n",
    "        center_x, center_y, offset, = 2, 2, -1\n",
    "        upper_i_left = (id_gen.get_id(), {'pos': (center_x + offset, center_y + 1),'type': 'I'})\n",
    "        lower_i_left = (id_gen.get_id(), {'pos': (center_x + offset, center_y - 1),'type': 'I'})\n",
    "        offset = -offset\n",
    "        upper_i_right = (id_gen.get_id(), {'pos': (center_x + offset, center_y + 1),'type': 'I'})\n",
    "        lower_i_right = (id_gen.get_id(), {'pos': (center_x + offset, center_y - 1),'type': 'I'})\n",
    "\n",
    "        l2_nodes.extend([upper_i_right, upper_i_left, lower_i_left, lower_i_right])\n",
    "\n",
    "        upper_e = (id_gen.get_id(), {'pos': (center_x, center_y + 1.5),'type': 'e'})\n",
    "        mid_e = (id_gen.get_id(), {'pos': (center_x, center_y),'type': 'e'})\n",
    "        lower_e = (id_gen.get_id(), {'pos': (center_x, center_y - 1.5),'type': 'e'})\n",
    "\n",
    "        l2_nodes.extend([upper_e, mid_e, lower_e])\n",
    "        l2_edges.extend([(upper_e[0], mid_e[0]), (lower_e[0], mid_e[0]),\n",
    "                         (lower_e[0], lower_i_left[0]),\n",
    "                         (lower_e[0], lower_i_right[0]),\n",
    "                         (lower_i_left[0], mid_e[0]),\n",
    "                         (lower_i_right[0], mid_e[0]),\n",
    "                         (upper_i_left[0], mid_e[0]),\n",
    "                         (upper_i_right[0], mid_e[0]),\n",
    "                         (upper_i_right[0], upper_e[0]),\n",
    "                         (upper_i_left[0], upper_e[0])])\n",
    "\n",
    "        l2.add_nodes_from(l2_nodes)\n",
    "        l2.add_edges_from(l2_edges)\n",
    "        graph_layers.add_new_layer(l2)\n",
    "        graph_layers.display_i_layer(1)\n",
    "        return graph_layers.get_layer(1)[0]\n",
    "\n",
    "\n",
    "    def create_valid_input_net(self):\n",
    "        graph_layers = Graph_layers()\n",
    "        side_len=2\n",
    "        parent_node_x, parent_node_y = 1, 1\n",
    "        id_gen = graph_layers.get_node_id_gen()\n",
    "        parent_node = (id_gen.get_id(), {'pos': (parent_node_x, parent_node_y), 'type': 'E','parent': -1})\n",
    "\n",
    "        half_side_len = side_len/2\n",
    "        i_nodes = [\n",
    "            (id_gen.get_id(), {'pos': (parent_node_x + half_side_len, parent_node_y - half_side_len),'type': 'I', 'parent': parent_node[0]}),\n",
    "            (id_gen.get_id(), {'pos': (parent_node_x - half_side_len, parent_node_y - half_side_len),'type': 'I', 'parent': parent_node[0]})\n",
    "        ]\n",
    "        l1_edges = []\n",
    "        for i_node in i_nodes:\n",
    "             l1_edges.extend([(i_node[0],parent_node[0])])\n",
    "\n",
    "        l1 = nx.Graph()\n",
    "        l1.add_nodes_from([parent_node])\n",
    "        l1.add_nodes_from(i_nodes)\n",
    "        l1.add_edges_from(l1_edges)\n",
    "        graph_layers.add_new_layer(l1)\n",
    "\n",
    "        l2 = nx.Graph()\n",
    "        l2_edges = []\n",
    "        l2_nodes = []\n",
    "        center_x, center_y, offset, tiny_offset = 2, 2, -1, -0.05\n",
    "        output_ids = []\n",
    "        for parent in i_nodes:\n",
    "            upper_i = (id_gen.get_id(), {'pos': (center_x + offset, center_y + 1),'type': 'I', 'parent': parent[0]})\n",
    "            lower_i = (id_gen.get_id(), {'pos': (center_x + offset, center_y - 1),'type': 'I', 'parent': parent[0]})\n",
    "            l2_nodes.extend([upper_i, lower_i])\n",
    "            output_ids.extend([lower_i[0], upper_i[0]])\n",
    "\n",
    "            upper_e = (id_gen.get_id(), {'pos': (center_x + tiny_offset, center_y + 1.5),'type': 'e'})\n",
    "            mid_e = (id_gen.get_id(), {'pos': (center_x + tiny_offset, center_y),'type': 'e'})\n",
    "            lower_e = (id_gen.get_id(), {'pos': (center_x + tiny_offset, center_y - 1.5),'type': 'e'})\n",
    "\n",
    "            l2_nodes.extend([upper_e, mid_e, lower_e])\n",
    "            l2_edges.extend([(upper_e[0], mid_e[0]), (lower_e[0], mid_e[0]), (lower_e[0], lower_i[0]),\n",
    "                             (lower_i[0], mid_e[0]),\n",
    "                             (upper_i[0], mid_e[0]),\n",
    "                             (upper_i[0], upper_e[0])])\n",
    "            offset = -offset\n",
    "            tiny_offset = -tiny_offset\n",
    "\n",
    "\n",
    "        l2.add_nodes_from(l2_nodes)\n",
    "        l2.add_edges_from(l2_edges)\n",
    "        graph_layers.add_new_layer(l2)\n",
    "        # graph_layers.display_i_layer(2)\n",
    "\n",
    "        return graph_layers, output_ids\n",
    "\n",
    "    def test_p7_correct(self):\n",
    "        initial, intermediate_i_node_ids = self.create_valid_input_net()\n",
    "        output = p7(initial.get_layer(2), intermediate_i_node_ids, initial.get_node_id_gen())\n",
    "        assert nx.is_isomorphic(self.create_valid_output_layer(), output[0])\n",
    "\n",
    "\n",
    "unittest.main(argv=[''], verbosity=2, exit=False)\n",
    "\n"
   ]
  }
 ],
 "metadata": {
  "kernelspec": {
   "display_name": "Python 3",
   "language": "python",
   "name": "python3"
  },
  "language_info": {
   "codemirror_mode": {
    "name": "ipython",
    "version": 3
   },
   "file_extension": ".py",
   "mimetype": "text/x-python",
   "name": "python",
   "nbconvert_exporter": "python",
   "pygments_lexer": "ipython3",
   "version": "3.6.3"
  }
 },
 "nbformat": 4,
 "nbformat_minor": 2
}
